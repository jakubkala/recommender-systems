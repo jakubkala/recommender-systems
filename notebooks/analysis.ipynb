{
 "cells": [
  {
   "cell_type": "code",
   "execution_count": 1,
   "metadata": {},
   "outputs": [],
   "source": [
    "import pandas as pd\n",
    "import numpy as np\n",
    "\n",
    "import matplotlib.pyplot as plt\n",
    "import os"
   ]
  },
  {
   "cell_type": "code",
   "execution_count": 2,
   "metadata": {},
   "outputs": [
    {
     "data": {
      "text/plain": [
       "['genome-scores.csv',\n",
       " 'genome-tags.csv',\n",
       " 'links.csv',\n",
       " 'movies.csv',\n",
       " 'ratings.csv',\n",
       " 'README.txt',\n",
       " 'tags.csv']"
      ]
     },
     "execution_count": 2,
     "metadata": {},
     "output_type": "execute_result"
    }
   ],
   "source": [
    "os.listdir(\"../data/ml-25m/\")"
   ]
  },
  {
   "cell_type": "code",
   "execution_count": 3,
   "metadata": {},
   "outputs": [],
   "source": [
    "path = \"../data/ml-25m/\"\n",
    "\n",
    "movies = pd.read_csv(path + \"movies.csv\")\n",
    "links = pd.read_csv(path + \"links.csv\")\n",
    "ratings = pd.read_csv(path + \"ratings.csv\")\n",
    "tags = pd.read_csv(path + \"tags.csv\")\n",
    "genome_scores = pd.read_csv(path + \"genome-scores.csv\")\n",
    "genome_tags = pd.read_csv(path + \"genome-tags.csv\")"
   ]
  },
  {
   "cell_type": "code",
   "execution_count": 4,
   "metadata": {},
   "outputs": [
    {
     "name": "stdout",
     "output_type": "stream",
     "text": [
      "Dataset shape: (25000095, 4)\n",
      "Users: 162541\n",
      "Movies: 59047\n"
     ]
    }
   ],
   "source": [
    "print(f\"Dataset shape: {ratings.shape}\")\n",
    "print(f\"Users: {len(ratings.userId.unique())}\")\n",
    "print(f\"Movies: {len(ratings.movieId.unique())}\")"
   ]
  },
  {
   "cell_type": "code",
   "execution_count": 5,
   "metadata": {},
   "outputs": [],
   "source": [
    "DEBUG = False\n",
    "\n",
    "if DEBUG:\n",
    "    ratings = ratings.loc[ratings.userId.isin(np.random.choice(ratings.userId.unique(), size=1000, replace=False))]"
   ]
  },
  {
   "cell_type": "code",
   "execution_count": 6,
   "metadata": {},
   "outputs": [
    {
     "name": "stdout",
     "output_type": "stream",
     "text": [
      "Dataset shape: (25000095, 4)\n",
      "Users: 162541\n",
      "Movies: 59047\n"
     ]
    }
   ],
   "source": [
    "print(f\"Dataset shape: {ratings.shape}\")\n",
    "print(f\"Users: {len(ratings.userId.unique())}\")\n",
    "print(f\"Movies: {len(ratings.movieId.unique())}\")"
   ]
  },
  {
   "cell_type": "code",
   "execution_count": 7,
   "metadata": {},
   "outputs": [],
   "source": [
    "ratings = ratings.join(movies['title'], on =\"movieId\")"
   ]
  },
  {
   "cell_type": "code",
   "execution_count": 8,
   "metadata": {},
   "outputs": [
    {
     "data": {
      "text/html": [
       "<div>\n",
       "<style scoped>\n",
       "    .dataframe tbody tr th:only-of-type {\n",
       "        vertical-align: middle;\n",
       "    }\n",
       "\n",
       "    .dataframe tbody tr th {\n",
       "        vertical-align: top;\n",
       "    }\n",
       "\n",
       "    .dataframe thead th {\n",
       "        text-align: right;\n",
       "    }\n",
       "</style>\n",
       "<table border=\"1\" class=\"dataframe\">\n",
       "  <thead>\n",
       "    <tr style=\"text-align: right;\">\n",
       "      <th></th>\n",
       "      <th>userId</th>\n",
       "      <th>movieId</th>\n",
       "      <th>rating</th>\n",
       "      <th>timestamp</th>\n",
       "      <th>title</th>\n",
       "    </tr>\n",
       "  </thead>\n",
       "  <tbody>\n",
       "    <tr>\n",
       "      <th>0</th>\n",
       "      <td>1</td>\n",
       "      <td>296</td>\n",
       "      <td>5.0</td>\n",
       "      <td>1147880044</td>\n",
       "      <td>Quiz Show (1994)</td>\n",
       "    </tr>\n",
       "    <tr>\n",
       "      <th>1</th>\n",
       "      <td>1</td>\n",
       "      <td>306</td>\n",
       "      <td>3.5</td>\n",
       "      <td>1147868817</td>\n",
       "      <td>Rent-a-Kid (1995)</td>\n",
       "    </tr>\n",
       "    <tr>\n",
       "      <th>2</th>\n",
       "      <td>1</td>\n",
       "      <td>307</td>\n",
       "      <td>5.0</td>\n",
       "      <td>1147868828</td>\n",
       "      <td>Relative Fear (1994)</td>\n",
       "    </tr>\n",
       "    <tr>\n",
       "      <th>3</th>\n",
       "      <td>1</td>\n",
       "      <td>665</td>\n",
       "      <td>5.0</td>\n",
       "      <td>1147878820</td>\n",
       "      <td>Some Folks Call It a Sling Blade (1993)</td>\n",
       "    </tr>\n",
       "    <tr>\n",
       "      <th>4</th>\n",
       "      <td>1</td>\n",
       "      <td>899</td>\n",
       "      <td>3.5</td>\n",
       "      <td>1147868510</td>\n",
       "      <td>Gone with the Wind (1939)</td>\n",
       "    </tr>\n",
       "  </tbody>\n",
       "</table>\n",
       "</div>"
      ],
      "text/plain": [
       "   userId  movieId  rating   timestamp  \\\n",
       "0       1      296     5.0  1147880044   \n",
       "1       1      306     3.5  1147868817   \n",
       "2       1      307     5.0  1147868828   \n",
       "3       1      665     5.0  1147878820   \n",
       "4       1      899     3.5  1147868510   \n",
       "\n",
       "                                     title  \n",
       "0                         Quiz Show (1994)  \n",
       "1                        Rent-a-Kid (1995)  \n",
       "2                     Relative Fear (1994)  \n",
       "3  Some Folks Call It a Sling Blade (1993)  \n",
       "4                Gone with the Wind (1939)  "
      ]
     },
     "execution_count": 8,
     "metadata": {},
     "output_type": "execute_result"
    }
   ],
   "source": [
    "ratings.head()"
   ]
  },
  {
   "cell_type": "code",
   "execution_count": 9,
   "metadata": {},
   "outputs": [],
   "source": [
    "rating_counts = ratings.groupby('rating').count().iloc[:, 0]"
   ]
  },
  {
   "cell_type": "code",
   "execution_count": 10,
   "metadata": {},
   "outputs": [
    {
     "data": {
      "image/png": "[encoded data removed]",
      "text/plain": [
       "<Figure size 720x432 with 1 Axes>"
      ]
     },
     "metadata": {
      "needs_background": "light"
     },
     "output_type": "display_data"
    }
   ],
   "source": [
    "plt.figure(figsize=(10,6))\n",
    "plt.bar(rating_counts.index, rating_counts / sum(rating_counts), width = 0.35)\n",
    "plt.title(\"Rating distribution\")\n",
    "plt.xticks(rating_counts.index)\n",
    "\n",
    "plt.show()"
   ]
  },
  {
   "cell_type": "markdown",
   "metadata": {},
   "source": [
    "# Recommender systems - surprise package"
   ]
  },
  {
   "cell_type": "code",
   "execution_count": 11,
   "metadata": {},
   "outputs": [],
   "source": [
    "from surprise import Reader, Dataset\n",
    "import surprise"
   ]
  },
  {
   "cell_type": "code",
   "execution_count": null,
   "metadata": {},
   "outputs": [],
   "source": []
  },
  {
   "cell_type": "code",
   "execution_count": 12,
   "metadata": {},
   "outputs": [],
   "source": [
    "testIds = np.random.choice(ratings.userId.unique(), size = 20000, replace = False)"
   ]
  },
  {
   "cell_type": "code",
   "execution_count": 13,
   "metadata": {},
   "outputs": [],
   "source": [
    "train_df = ratings.loc[-ratings.userId.isin(testIds)]\n",
    "test_df = ratings.loc[ratings.userId.isin(testIds)]\n",
    "\n",
    "del ratings"
   ]
  },
  {
   "cell_type": "code",
   "execution_count": 14,
   "metadata": {},
   "outputs": [],
   "source": [
    "reader = Reader(rating_scale=(1, 5))\n",
    "test_df = Dataset.load_from_df(test_df[['userId', 'movieId', 'rating']], reader).build_full_trainset()"
   ]
  },
  {
   "cell_type": "code",
   "execution_count": 22,
   "metadata": {},
   "outputs": [],
   "source": [
    "trainsetSizes = [10, 100]\n",
    "algos = {\n",
    "    'SVD': surprise.SVD(),\n",
    "    'NMF': surprise.NMF(),\n",
    "    'k-NN': surprise.KNNBasic(),\n",
    "    'k-NN with means': surprise.KNNWithMeans(),\n",
    "    'CoClustering': surprise.CoClustering(),\n",
    "    'SlopeOne': surprise.SlopeOne(),\n",
    "}"
   ]
  },
  {
   "cell_type": "code",
   "execution_count": 23,
   "metadata": {},
   "outputs": [
    {
     "data": {
      "text/plain": [
       "{'SVD': <surprise.prediction_algorithms.matrix_factorization.SVD at 0x15692f1ef10>,\n",
       " 'NMF': <surprise.prediction_algorithms.matrix_factorization.NMF at 0x15692f1e250>,\n",
       " 'k-NN': <surprise.prediction_algorithms.knns.KNNBasic at 0x15692f1eeb0>,\n",
       " 'k-NN with means': <surprise.prediction_algorithms.knns.KNNWithMeans at 0x15692f1e370>,\n",
       " 'CoClustering': <surprise.prediction_algorithms.co_clustering.CoClustering at 0x15692f1eca0>,\n",
       " 'SlopeOne': <surprise.prediction_algorithms.slope_one.SlopeOne at 0x15692f1e280>}"
      ]
     },
     "execution_count": 23,
     "metadata": {},
     "output_type": "execute_result"
    }
   ],
   "source": [
    "algos"
   ]
  },
  {
   "cell_type": "code",
   "execution_count": 24,
   "metadata": {},
   "outputs": [
    {
     "name": "stdout",
     "output_type": "stream",
     "text": [
      "Trainset size: 10\n",
      "Algorithm: SVD\n",
      "RMSE: 1.0578\n",
      "1.0578069694596413\n",
      "Algorithm: NMF\n",
      "RMSE: 1.0641\n",
      "1.0641228420848268\n",
      "Algorithm: k-NN\n",
      "Computing the msd similarity matrix...\n",
      "Done computing similarity matrix.\n",
      "RMSE: 1.0641\n",
      "1.0641228420848268\n",
      "Algorithm: k-NN with means\n",
      "Computing the msd similarity matrix...\n",
      "Done computing similarity matrix.\n",
      "RMSE: 1.0641\n",
      "1.0641228420848268\n",
      "Algorithm: CoClustering\n",
      "RMSE: 1.0641\n",
      "1.0641228420848268\n",
      "Algorithm: SlopeOne\n",
      "RMSE: 1.0641\n",
      "1.0641228420848268\n",
      "Trainset size: 100\n",
      "Algorithm: SVD\n",
      "RMSE: 1.0268\n",
      "1.0267741327425095\n",
      "Algorithm: NMF\n",
      "RMSE: 1.0603\n",
      "1.060341603487599\n",
      "Algorithm: k-NN\n",
      "Computing the msd similarity matrix...\n",
      "Done computing similarity matrix.\n",
      "RMSE: 1.0603\n",
      "1.060341603487599\n",
      "Algorithm: k-NN with means\n",
      "Computing the msd similarity matrix...\n",
      "Done computing similarity matrix.\n",
      "RMSE: 1.0603\n",
      "1.060341603487599\n",
      "Algorithm: CoClustering\n",
      "RMSE: 1.0603\n",
      "1.060341603487599\n",
      "Algorithm: SlopeOne\n",
      "RMSE: 1.0603\n",
      "1.060341603487599\n"
     ]
    }
   ],
   "source": [
    "for trainsetSize in trainsetSizes:\n",
    "    \n",
    "    print(f\"Trainset size: {trainsetSize}\")\n",
    "\n",
    "    df_tmp = train_df.loc[train_df.userId.isin(np.random.choice(train_df.userId.unique(), size = trainsetSize, replace=False))]\n",
    "    \n",
    "    \n",
    "    df_tmp = Dataset.load_from_df(df_tmp[['userId', 'movieId', 'rating']], reader)\n",
    "    df_tmp = df_tmp.build_full_trainset()    \n",
    "    \n",
    "    for algo_name, algo in algos.items():\n",
    "        \n",
    "        print(f\"Algorithm: {algo_name}\")\n",
    "        \n",
    "        algo.fit(df_tmp)\n",
    "        predictions = algo.test(test_df.build_testset())\n",
    "        print(surprise.accuracy.rmse(predictions))"
   ]
  }
 ],
 "metadata": {
  "kernelspec": {
   "display_name": "Python 3",
   "language": "python",
   "name": "python3"
  },
  "language_info": {
   "codemirror_mode": {
    "name": "ipython",
    "version": 3
   },
   "file_extension": ".py",
   "mimetype": "text/x-python",
   "name": "python",
   "nbconvert_exporter": "python",
   "pygments_lexer": "ipython3",
   "version": "3.8.3"
  }
 },
 "nbformat": 4,
 "nbformat_minor": 4
}
